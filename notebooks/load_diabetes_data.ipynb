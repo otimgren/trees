{
 "cells": [
  {
   "cell_type": "markdown",
   "id": "f422c78e-b744-46c9-bf99-f32938d5bdfe",
   "metadata": {},
   "source": [
    "# Load diabetes data"
   ]
  },
  {
   "cell_type": "markdown",
   "id": "3bc62e9e-fc14-4b83-bb3e-7b82f6865f49",
   "metadata": {},
   "source": [
    "## Imports"
   ]
  },
  {
   "cell_type": "code",
   "execution_count": 1,
   "id": "f9c453e6-f922-4a45-b8ad-0d4d75ef46ba",
   "metadata": {},
   "outputs": [],
   "source": [
    "%load_ext autoreload\n",
    "%autoreload 2\n",
    "\n",
    "from trees.data import diabetes"
   ]
  },
  {
   "cell_type": "markdown",
   "id": "a58f385f-81f2-40f2-b145-318cb1ba02bf",
   "metadata": {},
   "source": [
    "## Load raw data"
   ]
  },
  {
   "cell_type": "code",
   "execution_count": 2,
   "id": "0ea8aa9b-b48d-47fa-9f5b-16116c566c48",
   "metadata": {},
   "outputs": [],
   "source": [
    "df = diabetes.load_raw_data()"
   ]
  },
  {
   "cell_type": "code",
   "execution_count": 3,
   "id": "5feaf5f1-01e5-47e1-bfcc-b57a57ff8c55",
   "metadata": {},
   "outputs": [
    {
     "data": {
      "text/html": [
       "<div><style>\n",
       ".dataframe > thead > tr,\n",
       ".dataframe > tbody > tr {\n",
       "  text-align: right;\n",
       "  white-space: pre-wrap;\n",
       "}\n",
       "</style>\n",
       "<small>shape: (768, 9)</small><table border=\"1\" class=\"dataframe\"><thead><tr><th>Pregnancies</th><th>Glucose</th><th>BloodPressure</th><th>SkinThickness</th><th>Insulin</th><th>BMI</th><th>DiabetesPedigreeFunction</th><th>Age</th><th>Outcome</th></tr><tr><td>i64</td><td>i64</td><td>i64</td><td>i64</td><td>i64</td><td>f64</td><td>f64</td><td>i64</td><td>i64</td></tr></thead><tbody><tr><td>6</td><td>148</td><td>72</td><td>35</td><td>0</td><td>33.6</td><td>0.627</td><td>50</td><td>1</td></tr><tr><td>1</td><td>85</td><td>66</td><td>29</td><td>0</td><td>26.6</td><td>0.351</td><td>31</td><td>0</td></tr><tr><td>8</td><td>183</td><td>64</td><td>0</td><td>0</td><td>23.3</td><td>0.672</td><td>32</td><td>1</td></tr><tr><td>1</td><td>89</td><td>66</td><td>23</td><td>94</td><td>28.1</td><td>0.167</td><td>21</td><td>0</td></tr><tr><td>0</td><td>137</td><td>40</td><td>35</td><td>168</td><td>43.1</td><td>2.288</td><td>33</td><td>1</td></tr><tr><td>&hellip;</td><td>&hellip;</td><td>&hellip;</td><td>&hellip;</td><td>&hellip;</td><td>&hellip;</td><td>&hellip;</td><td>&hellip;</td><td>&hellip;</td></tr><tr><td>10</td><td>101</td><td>76</td><td>48</td><td>180</td><td>32.9</td><td>0.171</td><td>63</td><td>0</td></tr><tr><td>2</td><td>122</td><td>70</td><td>27</td><td>0</td><td>36.8</td><td>0.34</td><td>27</td><td>0</td></tr><tr><td>5</td><td>121</td><td>72</td><td>23</td><td>112</td><td>26.2</td><td>0.245</td><td>30</td><td>0</td></tr><tr><td>1</td><td>126</td><td>60</td><td>0</td><td>0</td><td>30.1</td><td>0.349</td><td>47</td><td>1</td></tr><tr><td>1</td><td>93</td><td>70</td><td>31</td><td>0</td><td>30.4</td><td>0.315</td><td>23</td><td>0</td></tr></tbody></table></div>"
      ],
      "text/plain": [
       "shape: (768, 9)\n",
       "┌─────────────┬─────────┬───────────────┬───────────────┬───┬──────┬───────────────┬─────┬─────────┐\n",
       "│ Pregnancies ┆ Glucose ┆ BloodPressure ┆ SkinThickness ┆ … ┆ BMI  ┆ DiabetesPedig ┆ Age ┆ Outcome │\n",
       "│ ---         ┆ ---     ┆ ---           ┆ ---           ┆   ┆ ---  ┆ reeFunction   ┆ --- ┆ ---     │\n",
       "│ i64         ┆ i64     ┆ i64           ┆ i64           ┆   ┆ f64  ┆ ---           ┆ i64 ┆ i64     │\n",
       "│             ┆         ┆               ┆               ┆   ┆      ┆ f64           ┆     ┆         │\n",
       "╞═════════════╪═════════╪═══════════════╪═══════════════╪═══╪══════╪═══════════════╪═════╪═════════╡\n",
       "│ 6           ┆ 148     ┆ 72            ┆ 35            ┆ … ┆ 33.6 ┆ 0.627         ┆ 50  ┆ 1       │\n",
       "│ 1           ┆ 85      ┆ 66            ┆ 29            ┆ … ┆ 26.6 ┆ 0.351         ┆ 31  ┆ 0       │\n",
       "│ 8           ┆ 183     ┆ 64            ┆ 0             ┆ … ┆ 23.3 ┆ 0.672         ┆ 32  ┆ 1       │\n",
       "│ 1           ┆ 89      ┆ 66            ┆ 23            ┆ … ┆ 28.1 ┆ 0.167         ┆ 21  ┆ 0       │\n",
       "│ 0           ┆ 137     ┆ 40            ┆ 35            ┆ … ┆ 43.1 ┆ 2.288         ┆ 33  ┆ 1       │\n",
       "│ …           ┆ …       ┆ …             ┆ …             ┆ … ┆ …    ┆ …             ┆ …   ┆ …       │\n",
       "│ 10          ┆ 101     ┆ 76            ┆ 48            ┆ … ┆ 32.9 ┆ 0.171         ┆ 63  ┆ 0       │\n",
       "│ 2           ┆ 122     ┆ 70            ┆ 27            ┆ … ┆ 36.8 ┆ 0.34          ┆ 27  ┆ 0       │\n",
       "│ 5           ┆ 121     ┆ 72            ┆ 23            ┆ … ┆ 26.2 ┆ 0.245         ┆ 30  ┆ 0       │\n",
       "│ 1           ┆ 126     ┆ 60            ┆ 0             ┆ … ┆ 30.1 ┆ 0.349         ┆ 47  ┆ 1       │\n",
       "│ 1           ┆ 93      ┆ 70            ┆ 31            ┆ … ┆ 30.4 ┆ 0.315         ┆ 23  ┆ 0       │\n",
       "└─────────────┴─────────┴───────────────┴───────────────┴───┴──────┴───────────────┴─────┴─────────┘"
      ]
     },
     "execution_count": 3,
     "metadata": {},
     "output_type": "execute_result"
    }
   ],
   "source": [
    "df"
   ]
  },
  {
   "cell_type": "code",
   "execution_count": null,
   "id": "6dd5321f-cdc3-478b-8965-abf1d0780b53",
   "metadata": {},
   "outputs": [],
   "source": []
  }
 ],
 "metadata": {
  "kernelspec": {
   "display_name": "Python 3 (ipykernel)",
   "language": "python",
   "name": "python3"
  },
  "language_info": {
   "codemirror_mode": {
    "name": "ipython",
    "version": 3
   },
   "file_extension": ".py",
   "mimetype": "text/x-python",
   "name": "python",
   "nbconvert_exporter": "python",
   "pygments_lexer": "ipython3",
   "version": "3.11.11"
  }
 },
 "nbformat": 4,
 "nbformat_minor": 5
}
