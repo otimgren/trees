{
 "cells": [
  {
   "cell_type": "markdown",
   "id": "f422c78e-b744-46c9-bf99-f32938d5bdfe",
   "metadata": {},
   "source": [
    "# Load diabetes data"
   ]
  },
  {
   "cell_type": "markdown",
   "id": "3bc62e9e-fc14-4b83-bb3e-7b82f6865f49",
   "metadata": {},
   "source": [
    "## Imports"
   ]
  },
  {
   "cell_type": "code",
   "execution_count": null,
   "id": "f9c453e6-f922-4a45-b8ad-0d4d75ef46ba",
   "metadata": {},
   "outputs": [],
   "source": []
  }
 ],
 "metadata": {
  "kernelspec": {
   "display_name": "Python 3 (ipykernel)",
   "language": "python",
   "name": "python3"
  },
  "language_info": {
   "codemirror_mode": {
    "name": "ipython",
    "version": 3
   },
   "file_extension": ".py",
   "mimetype": "text/x-python",
   "name": "python",
   "nbconvert_exporter": "python",
   "pygments_lexer": "ipython3",
   "version": "3.11.11"
  }
 },
 "nbformat": 4,
 "nbformat_minor": 5
}
